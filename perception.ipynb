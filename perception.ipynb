{
 "cells": [
  {
   "cell_type": "markdown",
   "metadata": {},
   "source": [
    "# Perception layer\n",
    "\n",
    "This Notebook represent a proof of concept of proposed perception layer, the goal is to process raw data collected throw sensors and prepare it to the strategy layer.\n",
    "To prepare your environment first of all clone the current repository by running this command : \n",
    "~~~\n",
    "git clone git@github.com:tensorflow/models.git\n",
    "~~~\n",
    "After that follow this [link](https://github.com/tensorflow/models/blob/master/research/object_detection/g3doc/installation.md) steps to install required librairies.\n",
    "\n"
   ]
  },
  {
   "cell_type": "code",
   "execution_count": null,
   "metadata": {},
   "outputs": [],
   "source": []
  }
 ],
 "metadata": {
  "kernelspec": {
   "display_name": "Python 3",
   "language": "python",
   "name": "python3"
  },
  "language_info": {
   "codemirror_mode": {
    "name": "ipython",
    "version": 3
   },
   "file_extension": ".py",
   "mimetype": "text/x-python",
   "name": "python",
   "nbconvert_exporter": "python",
   "pygments_lexer": "ipython3",
   "version": "3.5.2"
  }
 },
 "nbformat": 4,
 "nbformat_minor": 2
}
